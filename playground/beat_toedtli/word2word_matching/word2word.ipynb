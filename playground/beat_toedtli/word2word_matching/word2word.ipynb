{
 "cells": [
  {
   "cell_type": "code",
   "execution_count": 1,
   "id": "b31e6ba5-623b-4cd6-be4c-5525f808121c",
   "metadata": {},
   "outputs": [],
   "source": [
    "import pandas as pd\n",
    "import sys\n",
    "sys.path.append(r'C:\\Temp\\SoundOfAI\\rg_text_to_sound\\tts_pipeline\\src')\n",
    "sys.path\n",
    "from tts_pipeline.core import InferenceModel"
   ]
  },
  {
   "cell_type": "code",
   "execution_count": 2,
   "id": "c3d58f15-31e7-4d97-8302-4eafc8e2088d",
   "metadata": {},
   "outputs": [],
   "source": [
    "from match_word_to_words import word_to_words_matcher\n",
    "w2wm = word_to_words_matcher()\n",
    "target_list = ['Bright', 'Dark', 'Full', 'Hollow', 'Smooth', 'Rough', 'Warm', 'Metallic', 'Clear', 'Muddy', 'Thin', 'Thick', 'Pure', 'Noisy', 'Rich', 'Sparse', 'Soft', 'Hard']\n",
    "\n",
    "w2wm.build(target_list)"
   ]
  },
  {
   "cell_type": "code",
   "execution_count": 4,
   "id": "38ec6048-5f19-4926-9863-aabc7b6d12bf",
   "metadata": {},
   "outputs": [
    {
     "data": {
      "text/plain": [
       "['Smooth']"
      ]
     },
     "execution_count": 4,
     "metadata": {},
     "output_type": "execute_result"
    }
   ],
   "source": [
    "#w2wm.match_word_to_words('hot')\n",
    "w2wm.predict(['hot'])\n",
    "w2wm.predict(['smooth'])"
   ]
  },
  {
   "cell_type": "code",
   "execution_count": 3,
   "id": "baa5ab51-8924-48f5-a7d3-a5cefd6dfbe3",
   "metadata": {},
   "outputs": [
    {
     "data": {
      "text/html": [
       "<div>\n",
       "<style scoped>\n",
       "    .dataframe tbody tr th:only-of-type {\n",
       "        vertical-align: middle;\n",
       "    }\n",
       "\n",
       "    .dataframe tbody tr th {\n",
       "        vertical-align: top;\n",
       "    }\n",
       "\n",
       "    .dataframe thead th {\n",
       "        text-align: right;\n",
       "    }\n",
       "</style>\n",
       "<table border=\"1\" class=\"dataframe\">\n",
       "  <thead>\n",
       "    <tr style=\"text-align: right;\">\n",
       "      <th></th>\n",
       "      <th>text</th>\n",
       "      <th>split_sentences</th>\n",
       "    </tr>\n",
       "  </thead>\n",
       "  <tbody>\n",
       "    <tr>\n",
       "      <th>0</th>\n",
       "      <td>I always thought distorted guitar was more lik...</td>\n",
       "      <td>[('i', 'NONE'), ('always', 'NONE'), ('thought'...</td>\n",
       "    </tr>\n",
       "    <tr>\n",
       "      <th>1</th>\n",
       "      <td>You can t hear the guitar through the mass of ...</td>\n",
       "      <td>[('you', 'NONE'), ('can', 'NONE'), ('t', 'NONE...</td>\n",
       "    </tr>\n",
       "    <tr>\n",
       "      <th>2</th>\n",
       "      <td>Guitar amp sim in ADDITION to my clean bass gu...</td>\n",
       "      <td>[('guitar', 'INSTR'), ('amp', 'NONE'), ('sim',...</td>\n",
       "    </tr>\n",
       "    <tr>\n",
       "      <th>3</th>\n",
       "      <td>Example I want to hear a bright guitar</td>\n",
       "      <td>[('example', 'NONE'), ('i', 'NONE'), ('want', ...</td>\n",
       "    </tr>\n",
       "    <tr>\n",
       "      <th>4</th>\n",
       "      <td>Sigh In order to not be completely dismissive ...</td>\n",
       "      <td>[('sigh', 'NONE'), ('in', 'NONE'), ('order', '...</td>\n",
       "    </tr>\n",
       "  </tbody>\n",
       "</table>\n",
       "</div>"
      ],
      "text/plain": [
       "                                                text  \\\n",
       "0  I always thought distorted guitar was more lik...   \n",
       "1  You can t hear the guitar through the mass of ...   \n",
       "2  Guitar amp sim in ADDITION to my clean bass gu...   \n",
       "3             Example I want to hear a bright guitar   \n",
       "4  Sigh In order to not be completely dismissive ...   \n",
       "\n",
       "                                     split_sentences  \n",
       "0  [('i', 'NONE'), ('always', 'NONE'), ('thought'...  \n",
       "1  [('you', 'NONE'), ('can', 'NONE'), ('t', 'NONE...  \n",
       "2  [('guitar', 'INSTR'), ('amp', 'NONE'), ('sim',...  \n",
       "3  [('example', 'NONE'), ('i', 'NONE'), ('want', ...  \n",
       "4  [('sigh', 'NONE'), ('in', 'NONE'), ('order', '...  "
      ]
     },
     "execution_count": 3,
     "metadata": {},
     "output_type": "execute_result"
    }
   ],
   "source": [
    "df = pd.read_csv('pf_data.csv')\n",
    "df.head()"
   ]
  },
  {
   "cell_type": "code",
   "execution_count": 22,
   "id": "33df03ff-66d4-46cd-b2da-44b5ba2b94a3",
   "metadata": {},
   "outputs": [],
   "source": [
    "df.iloc[:,1] = df.iloc[:,1].map(eval)"
   ]
  },
  {
   "cell_type": "code",
   "execution_count": 42,
   "id": "a42ea47e-4af9-4736-9d28-67455c031cf9",
   "metadata": {},
   "outputs": [
    {
     "data": {
      "text/plain": [
       "101    [(after, NONE), (i, NONE), (lowered, NONE), (t...\n",
       "102    [(is, NONE), (learning, NONE), (to, NONE), (si...\n",
       "103    [(there, NONE), (are, NONE), (definitely, NONE...\n",
       "104    [(i, NONE), (played, NONE), (fingerstyle, NONE...\n",
       "105    [(i, NONE), (studied, NONE), (classical guitar...\n",
       "                             ...                        \n",
       "596    [(description, NONE), (bouncy, QLTY), (real, N...\n",
       "597    [(description, NONE), (lofi, NONE), (pop, NONE...\n",
       "598    [(description, NONE), (enjoy, NONE), (this, NO...\n",
       "599    [(description, NONE), (piano, INSTR), (made, N...\n",
       "600    [(description, NONE), (sad, QLTY), (omni-bells...\n",
       "Name: split_sentences, Length: 500, dtype: object"
      ]
     },
     "execution_count": 42,
     "metadata": {},
     "output_type": "execute_result"
    }
   ],
   "source": [
    "df.iloc[:,1].tail(500)"
   ]
  },
  {
   "cell_type": "code",
   "execution_count": 44,
   "id": "ebe4ebff-0f35-4d4b-8f20-10d793c9734e",
   "metadata": {},
   "outputs": [],
   "source": [
    "def extract_qualities(cell):\n",
    "    return [word for word, typed in cell if typed=='QLTY']\n",
    "def extract_instruments(cell):\n",
    "    return [word for word, typed in cell if typed=='INSTR']"
   ]
  },
  {
   "cell_type": "code",
   "execution_count": 54,
   "id": "44aefa9d-6d29-4efd-b4da-d47645d504ca",
   "metadata": {},
   "outputs": [
    {
     "data": {
      "text/plain": [
       "128"
      ]
     },
     "execution_count": 54,
     "metadata": {},
     "output_type": "execute_result"
    }
   ],
   "source": [
    "myl = []\n",
    "for l in df.iloc[:,1].map(extract_qualities):\n",
    "        myl+=l\n",
    "myl = set(myl)\n",
    "len(myl)"
   ]
  },
  {
   "cell_type": "code",
   "execution_count": null,
   "id": "bbbdd215-b566-4974-a5ed-b096e5f23268",
   "metadata": {},
   "outputs": [],
   "source": []
  },
  {
   "cell_type": "code",
   "execution_count": 50,
   "id": "4bdc1264-a0bf-4ec4-b164-95df8d5f7e2f",
   "metadata": {},
   "outputs": [
    {
     "data": {
      "text/plain": [
       "68"
      ]
     },
     "execution_count": 50,
     "metadata": {},
     "output_type": "execute_result"
    }
   ],
   "source": [
    "myl = []\n",
    "for l in df.iloc[:,1].map(extract_instruments):\n",
    "        myl+=l\n",
    "myl = set(myl)\n",
    "len(myl)"
   ]
  },
  {
   "cell_type": "code",
   "execution_count": 53,
   "id": "fdcb0d8f-ee0e-4be8-be7d-ad11a2790d63",
   "metadata": {},
   "outputs": [
    {
     "data": {
      "text/plain": [
       "['bright',\n",
       " 'dark',\n",
       " 'full',\n",
       " 'hollow',\n",
       " 'smooth',\n",
       " 'rough',\n",
       " 'warm',\n",
       " 'metallic',\n",
       " 'clear',\n",
       " 'muddy',\n",
       " 'thin',\n",
       " 'thick',\n",
       " 'pure',\n",
       " 'noisy',\n",
       " 'rich',\n",
       " 'sparse',\n",
       " 'soft',\n",
       " 'hard']"
      ]
     },
     "execution_count": 53,
     "metadata": {},
     "output_type": "execute_result"
    }
   ],
   "source": [
    "target_list = [l.lower() for l in target_list]\n",
    "target_list"
   ]
  },
  {
   "cell_type": "code",
   "execution_count": 48,
   "id": "b167eed2-efa3-4c36-918f-ebb54323f74d",
   "metadata": {},
   "outputs": [
    {
     "data": {
      "text/plain": [
       "{'12-string guitar',\n",
       " 'accordions',\n",
       " 'acoustic guitar',\n",
       " 'acoustic piano',\n",
       " 'ambient',\n",
       " 'bagpipes',\n",
       " 'bass',\n",
       " 'bass guitar',\n",
       " 'bell',\n",
       " 'bells',\n",
       " 'bouzouki',\n",
       " 'brass',\n",
       " 'cello',\n",
       " 'cimbalom',\n",
       " 'clarinet',\n",
       " 'clarinets',\n",
       " 'classical guitar',\n",
       " 'classical lute',\n",
       " 'clavichord',\n",
       " 'clavinet',\n",
       " 'digital piano',\n",
       " 'drum',\n",
       " 'drum set',\n",
       " 'drums',\n",
       " 'electirc guitar',\n",
       " 'electric bass',\n",
       " 'electric clavichord',\n",
       " 'electric guitar',\n",
       " 'electric guitars',\n",
       " 'electric piano',\n",
       " 'fiddles',\n",
       " 'flute',\n",
       " 'grand piano',\n",
       " 'grand pianos',\n",
       " 'guitar',\n",
       " 'guitars',\n",
       " 'harp',\n",
       " 'harpejji',\n",
       " 'harpsichord',\n",
       " 'horns',\n",
       " 'kalimba',\n",
       " 'koto',\n",
       " 'large pipe organ',\n",
       " 'lead guitar',\n",
       " 'lute',\n",
       " 'mandolin',\n",
       " 'marimba',\n",
       " 'mizmar',\n",
       " 'omni-bells',\n",
       " 'organ',\n",
       " 'pan flute',\n",
       " 'pan-flute',\n",
       " 'piano',\n",
       " 'pianos',\n",
       " 'sax',\n",
       " 'saxophone',\n",
       " 'saxophones',\n",
       " 'sitar',\n",
       " 'slide guitar',\n",
       " 'spanish guitar',\n",
       " 'steel drums',\n",
       " 'synth axe',\n",
       " 'tin whistle',\n",
       " 'trumpet',\n",
       " 'trumpets',\n",
       " 'ukulele',\n",
       " 'ukuleles',\n",
       " 'violin'}"
      ]
     },
     "execution_count": 48,
     "metadata": {},
     "output_type": "execute_result"
    }
   ],
   "source": [
    "myl"
   ]
  },
  {
   "cell_type": "code",
   "execution_count": null,
   "id": "76f918b0-3b9d-4768-af61-e815ef4d45d4",
   "metadata": {},
   "outputs": [],
   "source": []
  }
 ],
 "metadata": {
  "kernelspec": {
   "display_name": "nlp",
   "language": "python",
   "name": "nlp"
  },
  "language_info": {
   "codemirror_mode": {
    "name": "ipython",
    "version": 3
   },
   "file_extension": ".py",
   "mimetype": "text/x-python",
   "name": "python",
   "nbconvert_exporter": "python",
   "pygments_lexer": "ipython3",
   "version": "3.8.6"
  }
 },
 "nbformat": 4,
 "nbformat_minor": 5
}
